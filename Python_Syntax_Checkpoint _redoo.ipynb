
    {
      "cell_type": "code",
      "source": [
        "# Welcome message\n",
        "print(\"Welcome to Python Pizza Deliveries!\")\n",
        "\n",
        "# Get user input\n",
        "size = input(\"What size pizza do you want? S, M, or L: \")\n",
        "add_pepperoni = input(\"Do you want pepperoni? Y or N: \")\n",
        "extra_cheese = input(\"Do you want extra cheese? Y or N: \")\n",
        "\n",
        "# Initialize the bill\n",
        "bill = 0\n",
        "\n",
        "# Calculate base price based on size\n",
        "if size.upper() == \"S\":\n",
        "    bill = 15\n",
        "elif size.upper() == \"M\":\n",
        "    bill = 20\n",
        "elif size.upper() == \"L\":\n",
        "    bill = 25\n",
        "else:\n",
        "    print(\"Invalid size selected!\")\n",
        "\n",
        "# Add pepperoni cost\n",
        "if add_pepperoni.upper() == \"Y\":\n",
        "    if size.upper() == \"S\":\n",
        "        bill += 2\n",
        "    else:\n",
        "        bill += 3\n",
        "\n",
        "# Add extra cheese cost\n",
        "if extra_cheese.upper() == \"Y\":\n",
        "    bill += 1\n",
        "\n",
        "# Print final bill\n",
        "print(f\"Your final bill is: ${bill}.\")"
      ],
      "metadata": {
        "colab": {
          "base_uri": "https://localhost:8080/"
        },
        "id": "TmB0D4tn2j0y",
        "outputId": "32594837-50af-4bdd-a515-f2049a631324"
      },
      "execution_count": null,
      "outputs": [
        {
          "output_type": "stream",
          "name": "stdout",
          "text": [
            "Welcome to Python Pizza Deliveries!\n",
            "What size pizza do you want? S, M, or L: L\n",
            "Do you want pepperoni? Y or N: Y\n",
            "Do you want extra cheese? Y or N: Y\n",
            "Your final bill is: $29.\n"
          ]
        }
      ]
    }
  ]
}
