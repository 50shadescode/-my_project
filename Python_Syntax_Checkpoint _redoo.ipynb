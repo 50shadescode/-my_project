{
  "nbformat": 4,
  "nbformat_minor": 0,
  "metadata": {
    "colab": {
      "provenance": [],
      "authorship_tag": "ABX9TyMCdwxyVzZVyMQ1N0tlxgeE",
      "include_colab_link": true
    },
    "kernelspec": {
      "name": "python3",
      "display_name": "Python 3"
    },
    "language_info": {
      "name": "python"
    }
  },
  "cells": [
    {
      "cell_type": "markdown",
      "metadata": {
        "id": "view-in-github",
        "colab_type": "text"
      },
      "source": [
        "<a href=\"https://colab.research.google.com/github/50shadescode/-my_project/blob/main/Python_Syntax_Checkpoint%20_redoo.ipynb\" target=\"_parent\"><img src=\"https://colab.research.google.com/assets/colab-badge.svg\" alt=\"Open In Colab\"/></a>"
      ]
    },
    {
      "cell_type": "code",
      "execution_count": null,
      "metadata": {
        "colab": {
          "base_uri": "https://localhost:8080/"
        },
        "id": "J-4RGlxWNM-0",
        "outputId": "4e13c99e-aa2e-46cd-d1da-06d4a2d00aa6",
        "collapsed": true
      },
      "outputs": [
        {
          "output_type": "stream",
          "name": "stdout",
          "text": [
            "14 is even\n",
            "14 is even and greater than 10\n",
            "14 is either even or greater than 10 (or both)\n"
          ]
        }
      ],
      "source": [
        "# Creating a variable with an integer value\n",
        "number = 14\n",
        "\n",
        "# Checking if number is even or odd using if-else\n",
        "if number % 2 == 0:\n",
        "    print(f\"{number} is even\")\n",
        "else:\n",
        "    print(f\"{number} is odd\")\n",
        "\n",
        "# Using logical AND operator to check if number is even AND greater than 10\n",
        "if number % 2 == 0 and number > 10:\n",
        "    print(f\"{number} is even and greater than 10\")\n",
        "else:\n",
        "    print(f\"{number} does not satisfy both conditions\")\n",
        "\n",
        "# Using logical OR operator to check if number is even OR greater than 10\n",
        "if number % 2 == 0 or number > 10:\n",
        "    print(f\"{number} is either even or greater than 10 (or both)\")\n",
        "else:\n",
        "    print(f\"{number} is neither even nor greater than 10\")"
      ]
    },
    {
      "cell_type": "code",
      "source": [
        "import math\n",
        "print (math.pi)\n",
        "import matplotlib.pyplot as plt\n",
        "# Data to plot\n",
        "x = [1, 2, 3, 4, 5]\n",
        "y = [1, 4, 9, 16, 25]\n",
        "# Create a line plot\n",
        "plt.plot(x, y)\n",
        "\n",
        "# Add title and labels\n",
        "plt.title(\"Example Plot\")\n",
        "plt.xlabel(\"X-axis\")\n",
        "plt.ylabel(\"Y-axis\")\n",
        "\n",
        "# Show the plot\n",
        "plt.show()\n"
      ],
      "metadata": {
        "colab": {
          "base_uri": "https://localhost:8080/",
          "height": 509
        },
        "id": "3w1pIRIVsehz",
        "outputId": "d571cab0-e767-4aa2-a0ef-cc1bf702cfd9"
      },
      "execution_count": null,
      "outputs": [
        {
          "output_type": "stream",
          "name": "stdout",
          "text": [
            "3.141592653589793\n"
          ]
        },
        {
          "output_type": "display_data",
          "data": {
            "text/plain": [
              "<Figure size 640x480 with 1 Axes>"
            ],
            "image/png": "[encoded data removed]"
          },
          "metadata": {}
        }
      ]
    },
    {
      "cell_type": "code",
      "source": [
        "my_string = \"Welcome to python\"\n",
        "print(my_string)\n",
        "print(my_string[0])\n",
        "print(my_string[0:7])\n",
        "print(len(my_string))"
      ],
      "metadata": {
        "colab": {
          "base_uri": "https://localhost:8080/"
        },
        "id": "2N-Ehsnwzo5C",
        "outputId": "80c9e474-7d4c-4694-90cd-2259cb8e6637"
      },
      "execution_count": null,
      "outputs": [
        {
          "output_type": "stream",
          "name": "stdout",
          "text": [
            "Welcome to python\n",
            "W\n",
            "Welcome\n",
            "17\n"
          ]
        }
      ]
    },
    {
      "cell_type": "code",
      "source": [
        "# Welcome message\n",
        "print(\"Welcome to Python Pizza Deliveries!\")\n",
        "\n",
        "# Get user input\n",
        "size = input(\"What size pizza do you want? S, M, or L: \")\n",
        "add_pepperoni = input(\"Do you want pepperoni? Y or N: \")\n",
        "extra_cheese = input(\"Do you want extra cheese? Y or N: \")\n",
        "\n",
        "# Initialize the bill\n",
        "bill = 0\n",
        "\n",
        "# Calculate base price based on size\n",
        "if size.upper() == \"S\":\n",
        "    bill = 15\n",
        "elif size.upper() == \"M\":\n",
        "    bill = 20\n",
        "elif size.upper() == \"L\":\n",
        "    bill = 25\n",
        "else:\n",
        "    print(\"Invalid size selected!\")\n",
        "\n",
        "# Add pepperoni cost\n",
        "if add_pepperoni.upper() == \"Y\":\n",
        "    if size.upper() == \"S\":\n",
        "        bill += 2\n",
        "    else:\n",
        "        bill += 3\n",
        "\n",
        "# Add extra cheese cost\n",
        "if extra_cheese.upper() == \"Y\":\n",
        "    bill += 1\n",
        "\n",
        "# Print final bill\n",
        "print(f\"Your final bill is: ${bill}.\")"
      ],
      "metadata": {
        "colab": {
          "base_uri": "https://localhost:8080/"
        },
        "id": "TmB0D4tn2j0y",
        "outputId": "32594837-50af-4bdd-a515-f2049a631324"
      },
      "execution_count": null,
      "outputs": [
        {
          "output_type": "stream",
          "name": "stdout",
          "text": [
            "Welcome to Python Pizza Deliveries!\n",
            "What size pizza do you want? S, M, or L: L\n",
            "Do you want pepperoni? Y or N: Y\n",
            "Do you want extra cheese? Y or N: Y\n",
            "Your final bill is: $29.\n"
          ]
        }
      ]
    }
  ]
}