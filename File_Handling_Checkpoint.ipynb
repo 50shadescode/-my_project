{
  "nbformat": 4,
  "nbformat_minor": 0,
  "metadata": {
    "colab": {
      "provenance": [],
      "authorship_tag": "ABX9TyMPzaA3CYzENLyWk1mVqK9G",
      "include_colab_link": true
    },
    "kernelspec": {
      "name": "python3",
      "display_name": "Python 3"
    },
    "language_info": {
      "name": "python"
    }
  },
  "cells": [
    {
      "cell_type": "markdown",
      "metadata": {
        "id": "view-in-github",
        "colab_type": "text"
      },
      "source": [
        "<a href=\"https://colab.research.google.com/github/50shadescode/-my_project/blob/main/File_Handling_Checkpoint.ipynb\" target=\"_parent\"><img src=\"https://colab.research.google.com/assets/colab-badge.svg\" alt=\"Open In Colab\"/></a>"
      ]
    },
    {
      "cell_type": "code",
      "execution_count": 1,
      "metadata": {
        "colab": {
          "base_uri": "https://localhost:8080/",
          "height": 108
        },
        "id": "wialcM2efije",
        "outputId": "2a53d3df-69d2-4174-ba3e-3c2e788ddf61"
      },
      "outputs": [
        {
          "output_type": "error",
          "ename": "SyntaxError",
          "evalue": "invalid syntax (<ipython-input-1-634279b17c43>, line 28)",
          "traceback": [
            "\u001b[0;36m  File \u001b[0;32m\"<ipython-input-1-634279b17c43>\"\u001b[0;36m, line \u001b[0;32m28\u001b[0m\n\u001b[0;31m    Mean Loan Amount: 1621.2457980271008\u001b[0m\n\u001b[0m         ^\u001b[0m\n\u001b[0;31mSyntaxError\u001b[0m\u001b[0;31m:\u001b[0m invalid syntax\n"
          ]
        }
      ],
      "source": [
        "import numpy as np\n",
        "\n",
        "# Define the file path\n",
        "file_path = r\"D:\\Loan_prediction_dataset(3).csv\"\n",
        "\n",
        "# Open the file using the open() function\n",
        "file = open(file_path, 'r')\n",
        "\n",
        "# Read the content into a numpy array\n",
        "data = np.genfromtxt(file, delimiter=',', skip_header=1, dtype=None, encoding='utf-8')\n",
        "\n",
        "# Close the file after reading\n",
        "file.close()\n",
        "\n",
        "# Extract the loan amounts (assuming they are in column index 7)\n",
        "loan_amounts = data['f7']\n",
        "\n",
        "# Calculate statistical values\n",
        "mean_loan_amount = np.mean(loan_amounts)\n",
        "median_loan_amount = np.median(loan_amounts)\n",
        "std_dev_loan_amount = np.std(loan_amounts)\n",
        "\n",
        "# Print the results\n",
        "print(\"Mean Loan Amount:\", mean_loan_amount)\n",
        "print(\"Median Loan Amount:\", median_loan_amount)\n",
        "print(\"Standard Deviation of Loan Amounts:\", std_dev_loan_amount)\n",
        "\n",
        "Mean Loan Amount: 1621.2457980271008\n",
        "Median Loan Amount: 1188.5\n",
        "Standard Deviation of Loan Amounts: 2923.8644597700595\n"
      ]
    }
  ]
}