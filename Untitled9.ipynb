{
  "nbformat": 4,
  "nbformat_minor": 0,
  "metadata": {
    "colab": {
      "provenance": [],
      "authorship_tag": "ABX9TyNlHXyhb3TESntq0mNHMiWG",
      "include_colab_link": true
    },
    "kernelspec": {
      "name": "python3",
      "display_name": "Python 3"
    },
    "language_info": {
      "name": "python"
    }
  },
  "cells": [
    {
      "cell_type": "markdown",
      "metadata": {
        "id": "view-in-github",
        "colab_type": "text"
      },
      "source": [
        "<a href=\"https://colab.research.google.com/github/50shadescode/-my_project/blob/main/Untitled9.ipynb\" target=\"_parent\"><img src=\"https://colab.research.google.com/assets/colab-badge.svg\" alt=\"Open In Colab\"/></a>"
      ]
    },
    {
      "cell_type": "code",
      "execution_count": null,
      "metadata": {
        "id": "Xg50-LUCI0xR"
      },
      "outputs": [],
      "source": [
        "from selenium import webdriver\n",
        "from selenium.webdriver.chrome.service import Service\n",
        "from bs4 import BeautifulSoup\n",
        "import time\n",
        "import csv\n",
        "\n",
        "# Path to the ChromeDriver executable (Update this to your ChromeDriver location)\n",
        "CHROMEDRIVER_PATH = r\"C:\\chromedriver\\chromedriver.exe\"\n",
        "\n",
        "# Set up Selenium WebDriver\n",
        "service = Service(CHROMEDRIVER_PATH)\n",
        "driver = webdriver.Chrome(service=service)\n",
        "\n",
        "try:\n",
        "    # Open the website\n",
        "    url = 'https://jiji.co.ke/mobile-phones-tablets'\n",
        "    driver.get(url)\n",
        "\n",
        "    # Wait for the page to load completely\n",
        "    time.sleep(5)\n",
        "\n",
        "    # Parse the page source with BeautifulSoup\n",
        "    soup = BeautifulSoup(driver.page_source, 'html.parser')\n",
        "\n",
        "    # Extract product details\n",
        "    products = soup.find_all('div', class_='b-list-advert__item')  # Update this class if needed\n",
        "\n",
        "    product_data = []\n",
        "    for product in products:\n",
        "        # Extract product name\n",
        "        name_element = product.find('h3', class_='b-advert-title')  # Update this class if needed\n",
        "        price_element = product.find('div', class_='b-advert-price')  # Update this class if needed\n",
        "\n",
        "        name = name_element.get_text(strip=True) if name_element else 'N/A'\n",
        "        price = price_element.get_text(strip=True) if price_element else 'N/A'\n",
        "\n",
        "        product_data.append([name, price])\n",
        "\n",
        "    # Save product data to a CSV file\n",
        "    with open('products.csv', mode='w', newline='', encoding='utf-8') as file:\n",
        "        writer = csv.writer(file)\n",
        "        writer.writerow(['Name', 'Price'])\n",
        "        writer.writerows(product_data)\n",
        "\n",
        "    print(\"Data has been successfully saved to 'products.csv'!\")\n",
        "\n",
        "except Exception as e:\n",
        "    print(f\"An error occurred: {e}\")\n",
        "\n",
        "finally:\n",
        "    # Close the browser\n",
        "    driver.quit()\n"
      ]
    }
  ]
}