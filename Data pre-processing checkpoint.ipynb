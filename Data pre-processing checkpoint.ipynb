{
  "nbformat": 4,
  "nbformat_minor": 0,
  "metadata": {
    "colab": {
      "provenance": [],
      "authorship_tag": "ABX9TyNjblxqSjxySn21bW7Bncua",
      "include_colab_link": true
    },
    "kernelspec": {
      "name": "python3",
      "display_name": "Python 3"
    },
    "language_info": {
      "name": "python"
    }
  },
  "cells": [
    {
      "cell_type": "markdown",
      "metadata": {
        "id": "view-in-github",
        "colab_type": "text"
      },
      "source": [
        "<a href=\"https://colab.research.google.com/github/50shadescode/-my_project/blob/main/Data%20pre-processing%20checkpoint.ipynb\" target=\"_parent\"><img src=\"https://colab.research.google.com/assets/colab-badge.svg\" alt=\"Open In Colab\"/></a>"
      ]
    },
    {
      "cell_type": "code",
      "source": [
        "import pandas as pd\n",
        "import io\n",
        "\n",
        "file_name = \"STEG_BILLING_HISTORY.csv\"\n",
        "data = pd.read_csv(io.BytesIO(uploaded[file_name]))\n",
        "\n",
        "# Check the first few rows\n",
        "print(data.head())\n"
      ],
      "metadata": {
        "colab": {
          "base_uri": "https://localhost:8080/"
        },
        "id": "DiyW3eSuW42B",
        "outputId": "07730882-78e0-4d6e-c8b2-fe8459879bd1"
      },
      "execution_count": 2,
      "outputs": [
        {
          "output_type": "stream",
          "name": "stdout",
          "text": [
            "        client_id invoice_date  tarif_type  counter_number  counter_statue  \\\n",
            "0  train_Client_0   24/03/2014          11       1335667.0               0   \n",
            "1  train_Client_0   29/03/2013          11       1335667.0               0   \n",
            "2  train_Client_0   23/03/2015          11       1335667.0               0   \n",
            "3  train_Client_0   13/07/2015          11       1335667.0               0   \n",
            "4  train_Client_0   17/11/2016          11       1335667.0               0   \n",
            "\n",
            "   counter_code  reading_remarque  counter_coefficient  consommation_level_1  \\\n",
            "0           203               8.0                    1                    82   \n",
            "1           203               6.0                    1                  1200   \n",
            "2           203               8.0                    1                   123   \n",
            "3           207               8.0                    1                   102   \n",
            "4           207               9.0                    1                   572   \n",
            "\n",
            "   consommation_level_2  consommation_level_3  consommation_level_4  \\\n",
            "0                     0                     0                     0   \n",
            "1                   184                     0                     0   \n",
            "2                     0                     0                     0   \n",
            "3                     0                     0                     0   \n",
            "4                     0                     0                     0   \n",
            "\n",
            "   old_index  new_index  months_number counter_type  \n",
            "0      14302      14384              4         ELEC  \n",
            "1      12294      13678              4         ELEC  \n",
            "2      14624      14747              4         ELEC  \n",
            "3      14747      14849              4         ELEC  \n",
            "4      15066      15638             12         ELEC  \n"
          ]
        }
      ]
    },
    {
      "cell_type": "code",
      "source": [
        "# Display the first 10 lines\n",
        "client_0_bills = data.head(10)\n",
        "print(client_0_bills)"
      ],
      "metadata": {
        "colab": {
          "base_uri": "https://localhost:8080/"
        },
        "id": "phGEDxlKXoUe",
        "outputId": "11ae3d5a-959a-495f-b516-1add13354f75"
      },
      "execution_count": 7,
      "outputs": [
        {
          "output_type": "stream",
          "name": "stdout",
          "text": [
            "        client_id invoice_date  tarif_type  counter_number  counter_statue  \\\n",
            "0  train_Client_0   24/03/2014          11       1335667.0               0   \n",
            "1  train_Client_0   29/03/2013          11       1335667.0               0   \n",
            "2  train_Client_0   23/03/2015          11       1335667.0               0   \n",
            "3  train_Client_0   13/07/2015          11       1335667.0               0   \n",
            "4  train_Client_0   17/11/2016          11       1335667.0               0   \n",
            "5  train_Client_0   17/07/2017          11       1335667.0               0   \n",
            "6  train_Client_0   07/12/2018          11       1335667.0               0   \n",
            "7  train_Client_0   19/03/2019          11       1335667.0               0   \n",
            "8  train_Client_0   22/07/2011          11       1335667.0               0   \n",
            "9  train_Client_0   22/11/2011          11       1335667.0               0   \n",
            "\n",
            "   counter_code  reading_remarque  counter_coefficient  consommation_level_1  \\\n",
            "0           203               8.0                    1                    82   \n",
            "1           203               6.0                    1                  1200   \n",
            "2           203               8.0                    1                   123   \n",
            "3           207               8.0                    1                   102   \n",
            "4           207               9.0                    1                   572   \n",
            "5           207               9.0                    1                   314   \n",
            "6           207               9.0                    1                   541   \n",
            "7           207               9.0                    1                   585   \n",
            "8           203               9.0                    1                  1200   \n",
            "9           203               6.0                    1                  1082   \n",
            "\n",
            "   consommation_level_2  consommation_level_3  consommation_level_4  \\\n",
            "0                     0                     0                     0   \n",
            "1                   184                     0                     0   \n",
            "2                     0                     0                     0   \n",
            "3                     0                     0                     0   \n",
            "4                     0                     0                     0   \n",
            "5                     0                     0                     0   \n",
            "6                     0                     0                     0   \n",
            "7                     0                     0                     0   \n",
            "8                   186                     0                     0   \n",
            "9                     0                     0                     0   \n",
            "\n",
            "   old_index  new_index  months_number counter_type  \n",
            "0      14302      14384              4         ELEC  \n",
            "1      12294      13678              4         ELEC  \n",
            "2      14624      14747              4         ELEC  \n",
            "3      14747      14849              4         ELEC  \n",
            "4      15066      15638             12         ELEC  \n",
            "5      15638      15952              8         ELEC  \n",
            "6      15952      16493             12         ELEC  \n",
            "7      16493      17078              8         ELEC  \n",
            "8       7770       9156              4         ELEC  \n",
            "9       9156      10238              4         ELEC  \n"
          ]
        }
      ]
    },
    {
      "cell_type": "code",
      "source": [
        "# Check the data type of 'client_0_bills'\n",
        "print(\"Data type of 'client_0_bills':\", type(client_0_bills))\n",
        "# Display general information\n",
        "data.info()"
      ],
      "metadata": {
        "colab": {
          "base_uri": "https://localhost:8080/"
        },
        "id": "vMptzH5UYyVE",
        "outputId": "d65d54d4-9082-4840-a6f2-f3731027f064"
      },
      "execution_count": 9,
      "outputs": [
        {
          "output_type": "stream",
          "name": "stdout",
          "text": [
            "Data type of 'client_0_bills': <class 'pandas.core.frame.DataFrame'>\n",
            "<class 'pandas.core.frame.DataFrame'>\n",
            "RangeIndex: 1048575 entries, 0 to 1048574\n",
            "Data columns (total 16 columns):\n",
            " #   Column                Non-Null Count    Dtype  \n",
            "---  ------                --------------    -----  \n",
            " 0   client_id             1048575 non-null  object \n",
            " 1   invoice_date          1048575 non-null  object \n",
            " 2   tarif_type            1048575 non-null  int64  \n",
            " 3   counter_number        1048564 non-null  float64\n",
            " 4   counter_statue        1048575 non-null  int64  \n",
            " 5   counter_code          1048575 non-null  int64  \n",
            " 6   reading_remarque      1047503 non-null  float64\n",
            " 7   counter_coefficient   1048575 non-null  int64  \n",
            " 8   consommation_level_1  1048575 non-null  int64  \n",
            " 9   consommation_level_2  1048575 non-null  int64  \n",
            " 10  consommation_level_3  1048575 non-null  int64  \n",
            " 11  consommation_level_4  1048575 non-null  int64  \n",
            " 12  old_index             1048575 non-null  int64  \n",
            " 13  new_index             1048575 non-null  int64  \n",
            " 14  months_number         1048575 non-null  int64  \n",
            " 15  counter_type          1048575 non-null  object \n",
            "dtypes: float64(2), int64(11), object(3)\n",
            "memory usage: 128.0+ MB\n"
          ]
        }
      ]
    },
    {
      "cell_type": "code",
      "source": [
        "# Number of rows and columns\n",
        "rows, cols = data.shape\n",
        "print(f\"Number of rows: {rows}, Number of columns: {cols}\")"
      ],
      "metadata": {
        "colab": {
          "base_uri": "https://localhost:8080/"
        },
        "id": "WEkg8vt4ZLr-",
        "outputId": "95a33f2e-a90a-4890-9780-bc1b20f106ed"
      },
      "execution_count": 11,
      "outputs": [
        {
          "output_type": "stream",
          "name": "stdout",
          "text": [
            "Number of rows: 1048575, Number of columns: 16\n"
          ]
        }
      ]
    },
    {
      "cell_type": "code",
      "source": [
        "# Number of categorical features\n",
        "categorical_features = data.select_dtypes(include='object').columns\n",
        "print(f\"Categorical features ({len(categorical_features)}): {categorical_features.tolist()}\")"
      ],
      "metadata": {
        "colab": {
          "base_uri": "https://localhost:8080/"
        },
        "id": "JH96P269ZUhx",
        "outputId": "14d39f7f-62c6-465d-c5a3-c9ecc59d9187"
      },
      "execution_count": 12,
      "outputs": [
        {
          "output_type": "stream",
          "name": "stdout",
          "text": [
            "Categorical features (3): ['client_id', 'invoice_date', 'counter_type']\n"
          ]
        }
      ]
    },
    {
      "cell_type": "code",
      "source": [
        "# Memory usage\n",
        "print(\"Memory usage:\", data.memory_usage(deep=True).sum(), \"bytes\")"
      ],
      "metadata": {
        "colab": {
          "base_uri": "https://localhost:8080/"
        },
        "id": "wiNtf5qQZc0R",
        "outputId": "65a03be7-1d1a-43e5-befc-285ad6d0bc2e"
      },
      "execution_count": 13,
      "outputs": [
        {
          "output_type": "stream",
          "name": "stdout",
          "text": [
            "Memory usage: 322517911 bytes\n"
          ]
        }
      ]
    },
    {
      "cell_type": "code",
      "source": [
        "# Check for missing values\n",
        "missing_values = data.isnull().sum()\n",
        "print(\"Missing values in each column:\")\n",
        "print(missing_values)\n"
      ],
      "metadata": {
        "colab": {
          "base_uri": "https://localhost:8080/"
        },
        "id": "cRzEyeIrZigo",
        "outputId": "145615d9-2538-42a7-cd8b-8c699c96c9b9"
      },
      "execution_count": 14,
      "outputs": [
        {
          "output_type": "stream",
          "name": "stdout",
          "text": [
            "Missing values in each column:\n",
            "client_id               0\n",
            "invoice_date            0\n",
            "tarif_type              0\n",
            "counter_number          0\n",
            "counter_statue          0\n",
            "counter_code            0\n",
            "reading_remarque        0\n",
            "counter_coefficient     0\n",
            "consommation_level_1    0\n",
            "consommation_level_2    0\n",
            "consommation_level_3    0\n",
            "consommation_level_4    0\n",
            "old_index               0\n",
            "new_index               0\n",
            "months_number           0\n",
            "counter_type            0\n",
            "dtype: int64\n"
          ]
        }
      ]
    },
    {
      "cell_type": "code",
      "source": [
        "# Handle missing values: Fill categorical features with mode\n",
        "data.fillna(data.mode().iloc[0], inplace=True)\n",
        "print(\"Missing values handled using mode filling.\")"
      ],
      "metadata": {
        "colab": {
          "base_uri": "https://localhost:8080/"
        },
        "id": "lzAnnV61ZmJL",
        "outputId": "6dc9813c-3a5d-49f2-a387-db407073638b"
      },
      "execution_count": 15,
      "outputs": [
        {
          "output_type": "stream",
          "name": "stdout",
          "text": [
            "Missing values handled using mode filling.\n"
          ]
        }
      ]
    },
    {
      "cell_type": "code",
      "source": [
        "# Descriptive analysis\n",
        "numeric_features = data.select_dtypes(include=['int64', 'float64'])\n",
        "print(numeric_features.describe())\n",
        "\n",
        "# Filtering records for 'train_Client_0'\n",
        "client_0_records = data[data['client_id'] == 'train_Client_0']\n",
        "print(client_0_records)"
      ],
      "metadata": {
        "colab": {
          "base_uri": "https://localhost:8080/"
        },
        "id": "JHk55vSuZwTg",
        "outputId": "ed5ebbb3-bfcb-473c-c77f-76d95e1e1e45"
      },
      "execution_count": 16,
      "outputs": [
        {
          "output_type": "stream",
          "name": "stdout",
          "text": [
            "         tarif_type  counter_number  counter_statue  counter_code  \\\n",
            "count  1.048575e+06    1.048575e+06    1.048575e+06  1.048575e+06   \n",
            "mean   2.013626e+01    1.209200e+11    4.203419e-02  1.722212e+02   \n",
            "std    1.348246e+01    1.646702e+12    3.745414e-01  1.335823e+02   \n",
            "min    8.000000e+00    0.000000e+00    0.000000e+00  5.000000e+00   \n",
            "25%    1.100000e+01    1.214730e+05    0.000000e+00  5.000000e+00   \n",
            "50%    1.100000e+01    4.904750e+05    0.000000e+00  2.030000e+02   \n",
            "75%    4.000000e+01    1.112725e+06    0.000000e+00  2.070000e+02   \n",
            "max    4.500000e+01    2.738110e+13    5.000000e+00  6.000000e+02   \n",
            "\n",
            "       reading_remarque  counter_coefficient  consommation_level_1  \\\n",
            "count      1.048575e+06         1.048575e+06          1.048575e+06   \n",
            "mean       7.313944e+00         1.000236e+00          4.097446e+02   \n",
            "std        1.359580e+00         8.306498e-02          5.882746e+02   \n",
            "min        6.000000e+00         0.000000e+00          0.000000e+00   \n",
            "25%        6.000000e+00         1.000000e+00          7.900000e+01   \n",
            "50%        6.000000e+00         1.000000e+00          2.720000e+02   \n",
            "75%        9.000000e+00         1.000000e+00          6.010000e+02   \n",
            "max        9.000000e+00         5.000000e+01          9.888900e+04   \n",
            "\n",
            "       consommation_level_2  consommation_level_3  consommation_level_4  \\\n",
            "count          1.048575e+06          1.048575e+06          1.048575e+06   \n",
            "mean           1.075682e+02          2.041343e+01          5.405997e+01   \n",
            "std            1.169328e+03          1.636440e+02          9.792183e+02   \n",
            "min            0.000000e+00          0.000000e+00          0.000000e+00   \n",
            "25%            0.000000e+00          0.000000e+00          0.000000e+00   \n",
            "50%            0.000000e+00          0.000000e+00          0.000000e+00   \n",
            "75%            0.000000e+00          0.000000e+00          0.000000e+00   \n",
            "max            8.198860e+05          4.536000e+04          3.435680e+05   \n",
            "\n",
            "          old_index     new_index  months_number  \n",
            "count  1.048575e+06  1.048575e+06   1.048575e+06  \n",
            "mean   1.780314e+04  1.838809e+04   4.632200e+01  \n",
            "std    4.062121e+04  4.122851e+04   2.594754e+03  \n",
            "min    0.000000e+00  0.000000e+00   1.000000e+00  \n",
            "25%    1.792000e+03  2.057000e+03   4.000000e+00  \n",
            "50%    7.718000e+03  8.218000e+03   4.000000e+00  \n",
            "75%    2.181900e+04  2.252000e+04   4.000000e+00  \n",
            "max    2.800280e+06  2.870972e+06   2.944060e+05  \n",
            "         client_id invoice_date  tarif_type  counter_number  counter_statue  \\\n",
            "0   train_Client_0   24/03/2014          11       1335667.0               0   \n",
            "1   train_Client_0   29/03/2013          11       1335667.0               0   \n",
            "2   train_Client_0   23/03/2015          11       1335667.0               0   \n",
            "3   train_Client_0   13/07/2015          11       1335667.0               0   \n",
            "4   train_Client_0   17/11/2016          11       1335667.0               0   \n",
            "5   train_Client_0   17/07/2017          11       1335667.0               0   \n",
            "6   train_Client_0   07/12/2018          11       1335667.0               0   \n",
            "7   train_Client_0   19/03/2019          11       1335667.0               0   \n",
            "8   train_Client_0   22/07/2011          11       1335667.0               0   \n",
            "9   train_Client_0   22/11/2011          11       1335667.0               0   \n",
            "10  train_Client_0   25/11/2008          11       1335667.0               0   \n",
            "11  train_Client_0   23/07/2012          11       1335667.0               0   \n",
            "12  train_Client_0   29/11/2012          11       1335667.0               0   \n",
            "13  train_Client_0   22/07/2013          11       1335667.0               0   \n",
            "14  train_Client_0   18/07/2014          11       1335667.0               0   \n",
            "15  train_Client_0   24/11/2014          11       1335667.0               0   \n",
            "16  train_Client_0   18/11/2015          11       1335667.0               0   \n",
            "17  train_Client_0   27/03/2012          11       1335667.0               0   \n",
            "18  train_Client_0   30/03/2011          11       1335667.0               0   \n",
            "19  train_Client_0   12/02/2013          11       1335667.0               0   \n",
            "20  train_Client_0   22/07/2010          11       1335667.0               0   \n",
            "21  train_Client_0   24/11/2010          11       1335667.0               0   \n",
            "22  train_Client_0   17/10/2005          11       1335667.0               0   \n",
            "23  train_Client_0   24/02/2006          11       1335667.0               0   \n",
            "24  train_Client_0   23/06/2006          11       1335667.0               0   \n",
            "25  train_Client_0   18/10/2006          11       1335667.0               0   \n",
            "26  train_Client_0   27/06/2007          11       1335667.0               0   \n",
            "27  train_Client_0   25/10/2007          11       1335667.0               0   \n",
            "28  train_Client_0   26/02/2007          11       1335667.0               0   \n",
            "29  train_Client_0   28/07/2008          11       1335667.0               0   \n",
            "30  train_Client_0   04/01/2009          11       1335667.0               0   \n",
            "31  train_Client_0   27/07/2009          11       1335667.0               0   \n",
            "32  train_Client_0   24/11/2009          11       1335667.0               0   \n",
            "33  train_Client_0   29/03/2010          11       1335667.0               0   \n",
            "34  train_Client_0   04/01/2008          11       1335667.0               0   \n",
            "\n",
            "    counter_code  reading_remarque  counter_coefficient  consommation_level_1  \\\n",
            "0            203               8.0                    1                    82   \n",
            "1            203               6.0                    1                  1200   \n",
            "2            203               8.0                    1                   123   \n",
            "3            207               8.0                    1                   102   \n",
            "4            207               9.0                    1                   572   \n",
            "5            207               9.0                    1                   314   \n",
            "6            207               9.0                    1                   541   \n",
            "7            207               9.0                    1                   585   \n",
            "8            203               9.0                    1                  1200   \n",
            "9            203               6.0                    1                  1082   \n",
            "10           203               6.0                    1                   174   \n",
            "11           203               6.0                    1                   628   \n",
            "12           203               6.0                    1                   886   \n",
            "13           203               8.0                    1                   147   \n",
            "14           203               8.0                    1                    99   \n",
            "15           203               8.0                    1                   141   \n",
            "16           207               9.0                    1                   217   \n",
            "17           203               8.0                    1                   292   \n",
            "18           203               6.0                    1                   497   \n",
            "19           203               8.0                    1                    38   \n",
            "20           203               6.0                    1                   278   \n",
            "21           203               6.0                    1                   234   \n",
            "22           203               6.0                    1                   124   \n",
            "23           203               6.0                    1                   141   \n",
            "24           203               6.0                    1                   162   \n",
            "25           203               6.0                    1                   159   \n",
            "26           203               6.0                    1                   240   \n",
            "27           203               6.0                    1                   276   \n",
            "28           203               6.0                    1                   182   \n",
            "29           203               6.0                    1                   171   \n",
            "30           203               6.0                    1                   315   \n",
            "31           203               6.0                    1                   312   \n",
            "32           203               6.0                    1                   267   \n",
            "33           203               6.0                    1                   276   \n",
            "34           203               6.0                    1                   277   \n",
            "\n",
            "    consommation_level_2  consommation_level_3  consommation_level_4  \\\n",
            "0                      0                     0                     0   \n",
            "1                    184                     0                     0   \n",
            "2                      0                     0                     0   \n",
            "3                      0                     0                     0   \n",
            "4                      0                     0                     0   \n",
            "5                      0                     0                     0   \n",
            "6                      0                     0                     0   \n",
            "7                      0                     0                     0   \n",
            "8                    186                     0                     0   \n",
            "9                      0                     0                     0   \n",
            "10                     0                     0                     0   \n",
            "11                     0                     0                     0   \n",
            "12                     0                     0                     0   \n",
            "13                     0                     0                     0   \n",
            "14                     0                     0                     0   \n",
            "15                     0                     0                     0   \n",
            "16                     0                     0                     0   \n",
            "17                     0                     0                     0   \n",
            "18                     0                     0                     0   \n",
            "19                     0                     0                     0   \n",
            "20                     0                     0                     0   \n",
            "21                     0                     0                     0   \n",
            "22                     0                     0                     0   \n",
            "23                     0                     0                     0   \n",
            "24                     0                     0                     0   \n",
            "25                     0                     0                     0   \n",
            "26                     0                     0                     0   \n",
            "27                     0                     0                     0   \n",
            "28                     0                     0                     0   \n",
            "29                     0                     0                     0   \n",
            "30                     0                     0                     0   \n",
            "31                     0                     0                     0   \n",
            "32                     0                     0                     0   \n",
            "33                     0                     0                     0   \n",
            "34                     0                     0                     0   \n",
            "\n",
            "    old_index  new_index  months_number counter_type  \n",
            "0       14302      14384              4         ELEC  \n",
            "1       12294      13678              4         ELEC  \n",
            "2       14624      14747              4         ELEC  \n",
            "3       14747      14849              4         ELEC  \n",
            "4       15066      15638             12         ELEC  \n",
            "5       15638      15952              8         ELEC  \n",
            "6       15952      16493             12         ELEC  \n",
            "7       16493      17078              8         ELEC  \n",
            "8        7770       9156              4         ELEC  \n",
            "9        9156      10238              4         ELEC  \n",
            "10       5417       5591              4         ELEC  \n",
            "11      10780      11408              4         ELEC  \n",
            "12      11408      12294              4         ELEC  \n",
            "13      13983      14130              4         ELEC  \n",
            "14      14384      14483              4         ELEC  \n",
            "15      14483      14624              4         ELEC  \n",
            "16      14849      15066              4         ELEC  \n",
            "17      10488      10780              4         ELEC  \n",
            "18       7273       7770              4         ELEC  \n",
            "19      14264      14302              2         ELEC  \n",
            "20       6761       7039              4         ELEC  \n",
            "21       7039       7273              4         ELEC  \n",
            "22       3685       3809              4         ELEC  \n",
            "23       3809       3950              4         ELEC  \n",
            "24       3950       4112              4         ELEC  \n",
            "25       4112       4271              4         ELEC  \n",
            "26       4453       4693              4         ELEC  \n",
            "27       4693       4969              4         ELEC  \n",
            "28       4271       4453              4         ELEC  \n",
            "29       5246       5417              4         ELEC  \n",
            "30       5591       5906              4         ELEC  \n",
            "31       5906       6218              4         ELEC  \n",
            "32       6218       6485              4         ELEC  \n",
            "33       6485       6761              4         ELEC  \n",
            "34       4969       5246              4         ELEC  \n"
          ]
        }
      ]
    },
    {
      "cell_type": "code",
      "source": [
        "from sklearn.preprocessing import LabelEncoder\n",
        "print(LabelEncoder)\n",
        "\n",
        "# Transform 'counter_type' to numeric using Label Encoding\n",
        "encoder = LabelEncoder()\n",
        "data['counter_type_encoded'] = encoder.fit_transform(data['counter_type'])\n",
        "print(data[['counter_type', 'counter_type_encoded']].head())"
      ],
      "metadata": {
        "colab": {
          "base_uri": "https://localhost:8080/"
        },
        "id": "j9cNQMQZZ0AI",
        "outputId": "46208773-3793-4986-9159-66d68835c33b"
      },
      "execution_count": 22,
      "outputs": [
        {
          "output_type": "stream",
          "name": "stdout",
          "text": [
            "<class 'sklearn.preprocessing._label.LabelEncoder'>\n",
            "  counter_type  counter_type_encoded\n",
            "0         ELEC                     0\n",
            "1         ELEC                     0\n",
            "2         ELEC                     0\n",
            "3         ELEC                     0\n",
            "4         ELEC                     0\n"
          ]
        }
      ]
    },
    {
      "cell_type": "code",
      "source": [
        "# Drop 'counter_statue' column if it exists\n",
        "if 'counter_statue' in data.columns:\n",
        "    data.drop(columns=['counter_statue'], inplace=True)\n",
        "    print(\"Column 'counter_statue' deleted.\")"
      ],
      "metadata": {
        "colab": {
          "base_uri": "https://localhost:8080/"
        },
        "id": "0vYxZXT6asep",
        "outputId": "09e2f454-e9e6-4e3d-cad9-6dbef520f360"
      },
      "execution_count": 23,
      "outputs": [
        {
          "output_type": "stream",
          "name": "stdout",
          "text": [
            "Column 'counter_statue' deleted.\n"
          ]
        }
      ]
    }
  ]
}