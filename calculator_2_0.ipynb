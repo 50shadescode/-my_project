{
  "nbformat": 4,
  "nbformat_minor": 0,
  "metadata": {
    "colab": {
      "provenance": [],
      "authorship_tag": "ABX9TyOlQnndVYnOyrW+qRUFE3Qn",
      "include_colab_link": true
    },
    "kernelspec": {
      "name": "python3",
      "display_name": "Python 3"
    },
    "language_info": {
      "name": "python"
    }
  },
  "cells": [
    {
      "cell_type": "markdown",
      "metadata": {
        "id": "view-in-github",
        "colab_type": "text"
      },
      "source": [
        "<a href=\"https://colab.research.google.com/github/50shadescode/-my_project/blob/main/calculator_2_0.ipynb\" target=\"_parent\"><img src=\"https://colab.research.google.com/assets/colab-badge.svg\" alt=\"Open In Colab\"/></a>"
      ]
    },
    {
      "cell_type": "code",
      "execution_count": null,
      "metadata": {
        "colab": {
          "base_uri": "https://localhost:8080/"
        },
        "id": "7iIlPMbjz3qj",
        "outputId": "34dc8908-338c-46b3-f55b-de55efe2f038"
      },
      "outputs": [
        {
          "name": "stdout",
          "output_type": "stream",
          "text": [
            "Enter the first number: 1\n"
          ]
        }
      ],
      "source": [
        "import math\n",
        "\n",
        "class Calculator:\n",
        "    def __init__(self):\n",
        "        # Initialize dictionary with basic operations\n",
        "        self.operations = {\n",
        "            '+': self.add,\n",
        "            '-': self.subtract,\n",
        "            '*': self.multiply,\n",
        "            '/': self.divide\n",
        "        }\n",
        "\n",
        "    def add_operation(self, symbol, function):\n",
        "        # Add a new operation to the dictionary\n",
        "        self.operations[symbol] = function\n",
        "\n",
        "    def calculate(self, num1, operation, num2=None):\n",
        "        # Check if inputs are numbers\n",
        "        if not (isinstance(num1, (int, float)) and (isinstance(num2, (int, float)) or num2 is None)):\n",
        "            print(\"Error: Both inputs must be numbers.\")\n",
        "            raise ValueError(\"Invalid input\")\n",
        "\n",
        "        # Check if the operation is valid\n",
        "        if operation not in self.operations:\n",
        "            print(f\"Error: Operation '{operation}' is not valid.\")\n",
        "            raise ValueError(\"Invalid operation\")\n",
        "\n",
        "        # Perform calculation\n",
        "        if operation in ['+', '-', '*', '/']:\n",
        "            if num2 is None:\n",
        "                print(\"Error: You need two numbers for basic operations.\")\n",
        "                raise ValueError(\"Missing second number\")\n",
        "            return self.operations[operation](num1, num2)\n",
        "        elif operation in self.operations:\n",
        "            return self.operations[operation](num1)\n",
        "\n",
        "    def add(self, num1, num2):\n",
        "        return num1 + num2\n",
        "\n",
        "    def subtract(self, num1, num2):\n",
        "        return num1 - num2\n",
        "\n",
        "    def multiply(self, num1, num2):\n",
        "        return num1 * num2\n",
        "\n",
        "    def divide(self, num1, num2):\n",
        "        if num2 == 0:\n",
        "            print(\"Error: Cannot divide by zero.\")\n",
        "            raise ZeroDivisionError(\"Cannot divide by zero\")\n",
        "        return num1 / num2\n",
        "\n",
        "# Advanced mathematical operations\n",
        "def exponentiate(num1, num2):\n",
        "    return math.pow(num1, num2)\n",
        "\n",
        "def square_root(num1, num2=None):\n",
        "    if num1 < 0:\n",
        "        print(\"Error: Cannot take square root of a negative number.\")\n",
        "        raise ValueError(\"Invalid input for square root\")\n",
        "    return math.sqrt(num1)\n",
        "\n",
        "def logarithm(num1, num2=None):\n",
        "    if num1 <= 0:\n",
        "        print(\"Error: Logarithm input must be positive.\")\n",
        "        raise ValueError(\"Invalid input for logarithm\")\n",
        "    return math.log(num1)\n",
        "\n",
        "def main():\n",
        "    # Create a Calculator instance\n",
        "    calc = Calculator()\n",
        "\n",
        "    # Add advanced operations to the calculator\n",
        "    calc.add_operation('^', exponentiate)\n",
        "    calc.add_operation('sqrt', square_root)\n",
        "    calc.add_operation('log', logarithm)\n",
        "\n",
        "    while True:\n",
        "        # Get user input\n",
        "        try:\n",
        "            num1 = input(\"Enter the first number: \")\n",
        "            num1 = float(num1) if num1 else None\n",
        "\n",
        "            if num1 is None:\n",
        "                print(\"Error: Please enter a valid number.\")\n",
        "                continue\n",
        "\n",
        "            operation = input(\"Enter operation (+, -, *, /, ^, sqrt, log) or 'exit' to quit: \")\n",
        "\n",
        "            if operation == 'exit':\n",
        "                print(\"Exiting calculator...\")\n",
        "                break\n",
        "\n",
        "            if operation in ['sqrt', 'log']:  # Operations that only need one number\n",
        "                result = calc.calculate(num1, operation)\n",
        "            else:\n",
        "                num2 = input(\"Enter the second number: \")\n",
        "                num2 = float(num2) if num2 else None\n",
        "                if num2 is None:\n",
        "                    print(\"Error: Please enter a valid second number.\")\n",
        "                    continue\n",
        "                result = calc.calculate(num1, operation, num2)\n",
        "\n",
        "            print(f\"Result: {result}\")\n",
        "\n",
        "        except ValueError as e:\n",
        "            print(f\"Error: {e}\")\n",
        "        except ZeroDivisionError as e:\n",
        "            print(f\"Error: {e}\")\n",
        "        except Exception as e:\n",
        "            print(f\"Unexpected error: {e}\")\n",
        "\n",
        "if __name__ == \"__main__\":\n",
        "    main()\n"
      ]
    }
  ]
}